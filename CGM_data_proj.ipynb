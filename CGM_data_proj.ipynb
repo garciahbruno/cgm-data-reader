{
 "cells": [
  {
   "cell_type": "markdown",
   "id": "6f773d85",
   "metadata": {},
   "source": [
    "# Import Libraries #"
   ]
  },
  {
   "cell_type": "code",
   "execution_count": 167,
   "id": "02ddfd54",
   "metadata": {},
   "outputs": [],
   "source": [
    "import pandas as pd\n",
    "import numpy as np\n",
    "import matplotlib as plt\n",
    "from scipy import stats\n",
    "\n",
    "\n",
    "# from sklearn.preprocessing import StandardScaler\n",
    "# from sklearn.cluster import KMeans"
   ]
  },
  {
   "cell_type": "markdown",
   "id": "b215109e",
   "metadata": {},
   "source": [
    "# Load Data #"
   ]
  },
  {
   "cell_type": "code",
   "execution_count": 168,
   "id": "52f3f8aa",
   "metadata": {},
   "outputs": [
    {
     "data": {
      "application/vnd.microsoft.datawrangler.viewer.v0+json": {
       "columns": [
        {
         "name": "index",
         "rawType": "int64",
         "type": "integer"
        },
        {
         "name": "patient_id",
         "rawType": "int64",
         "type": "integer"
        },
        {
         "name": "period",
         "rawType": "object",
         "type": "string"
        },
        {
         "name": "date_time",
         "rawType": "object",
         "type": "string"
        },
        {
         "name": "CGM",
         "rawType": "int64",
         "type": "integer"
        }
       ],
       "ref": "3f5048e0-d44a-4978-9918-14141c25e280",
       "rows": [
        [
         "0",
         "1",
         "1. Baseline",
         "11DEC17:23:59:25",
         "172"
        ],
        [
         "1",
         "1",
         "1. Baseline",
         "12DEC17:00:04:24",
         "170"
        ],
        [
         "2",
         "1",
         "1. Baseline",
         "12DEC17:00:09:24",
         "167"
        ],
        [
         "3",
         "1",
         "1. Baseline",
         "12DEC17:00:14:25",
         "163"
        ],
        [
         "4",
         "1",
         "1. Baseline",
         "12DEC17:00:19:25",
         "160"
        ]
       ],
       "shape": {
        "columns": 4,
        "rows": 5
       }
      },
      "text/html": [
       "<div>\n",
       "<style scoped>\n",
       "    .dataframe tbody tr th:only-of-type {\n",
       "        vertical-align: middle;\n",
       "    }\n",
       "\n",
       "    .dataframe tbody tr th {\n",
       "        vertical-align: top;\n",
       "    }\n",
       "\n",
       "    .dataframe thead th {\n",
       "        text-align: right;\n",
       "    }\n",
       "</style>\n",
       "<table border=\"1\" class=\"dataframe\">\n",
       "  <thead>\n",
       "    <tr style=\"text-align: right;\">\n",
       "      <th></th>\n",
       "      <th>patient_id</th>\n",
       "      <th>period</th>\n",
       "      <th>date_time</th>\n",
       "      <th>CGM</th>\n",
       "    </tr>\n",
       "  </thead>\n",
       "  <tbody>\n",
       "    <tr>\n",
       "      <th>0</th>\n",
       "      <td>1</td>\n",
       "      <td>1. Baseline</td>\n",
       "      <td>11DEC17:23:59:25</td>\n",
       "      <td>172</td>\n",
       "    </tr>\n",
       "    <tr>\n",
       "      <th>1</th>\n",
       "      <td>1</td>\n",
       "      <td>1. Baseline</td>\n",
       "      <td>12DEC17:00:04:24</td>\n",
       "      <td>170</td>\n",
       "    </tr>\n",
       "    <tr>\n",
       "      <th>2</th>\n",
       "      <td>1</td>\n",
       "      <td>1. Baseline</td>\n",
       "      <td>12DEC17:00:09:24</td>\n",
       "      <td>167</td>\n",
       "    </tr>\n",
       "    <tr>\n",
       "      <th>3</th>\n",
       "      <td>1</td>\n",
       "      <td>1. Baseline</td>\n",
       "      <td>12DEC17:00:14:25</td>\n",
       "      <td>163</td>\n",
       "    </tr>\n",
       "    <tr>\n",
       "      <th>4</th>\n",
       "      <td>1</td>\n",
       "      <td>1. Baseline</td>\n",
       "      <td>12DEC17:00:19:25</td>\n",
       "      <td>160</td>\n",
       "    </tr>\n",
       "  </tbody>\n",
       "</table>\n",
       "</div>"
      ],
      "text/plain": [
       "   patient_id       period         date_time  CGM\n",
       "0           1  1. Baseline  11DEC17:23:59:25  172\n",
       "1           1  1. Baseline  12DEC17:00:04:24  170\n",
       "2           1  1. Baseline  12DEC17:00:09:24  167\n",
       "3           1  1. Baseline  12DEC17:00:14:25  163\n",
       "4           1  1. Baseline  12DEC17:00:19:25  160"
      ]
     },
     "execution_count": 168,
     "metadata": {},
     "output_type": "execute_result"
    }
   ],
   "source": [
    "cgmdata = \"./data/cgm.txt\"\n",
    "\n",
    "# Load raw file\n",
    "df = pd.read_csv(\n",
    "    cgmdata,\n",
    "    sep=\"|\",\n",
    "    #names=[\"iPtID\", \"Period\", \"DataDtTm\", \"CGM\"],\n",
    "    names=[\"patient_id\", \"period\", \"date_time\", \"CGM\"],\n",
    "    skiprows=1\n",
    ")\n",
    "\n",
    "# Look at the first few rows\n",
    "df.head()"
   ]
  },
  {
   "cell_type": "markdown",
   "id": "cdb0fdf3",
   "metadata": {},
   "source": [
    "# Simple EDA"
   ]
  },
  {
   "cell_type": "code",
   "execution_count": 169,
   "id": "5ea97ac0",
   "metadata": {},
   "outputs": [
    {
     "name": "stdout",
     "output_type": "stream",
     "text": [
      "Dataset shape: (9032235, 4)\n",
      "\n",
      "Dataset columns: Index(['patient_id', 'period', 'date_time', 'CGM'], dtype='object')\n",
      "\n",
      "NAs:\n",
      " patient_id    0\n",
      "period        0\n",
      "date_time     0\n",
      "CGM           0\n",
      "dtype: int64\n",
      "\n",
      "Duplicates: 0\n",
      "\n",
      "Unique patients: 168\n",
      "\n",
      "Unique periods: 2\n",
      "\n"
     ]
    }
   ],
   "source": [
    "# OLGA: it is always worthwhile to perform a simple EDA \n",
    "\n",
    "print(\"Dataset shape:\", df.shape)\n",
    "print()\n",
    "print(\"Dataset columns:\", df.columns)\n",
    "print()\n",
    "print(\"NAs:\\n\", df.isna().sum())\n",
    "print()\n",
    "print(\"Duplicates:\", df.duplicated().sum())\n",
    "print()\n",
    "print(\"Unique patients:\", df[\"patient_id\"].nunique())\n",
    "print()\n",
    "print(\"Unique periods:\", df[\"period\"].nunique())\n",
    "print()\n"
   ]
  },
  {
   "cell_type": "code",
   "execution_count": null,
   "id": "91b153f7",
   "metadata": {},
   "outputs": [
    {
     "data": {
      "application/vnd.microsoft.datawrangler.viewer.v0+json": {
       "columns": [
        {
         "name": "index",
         "rawType": "object",
         "type": "string"
        },
        {
         "name": "CGM",
         "rawType": "float64",
         "type": "float"
        }
       ],
       "ref": "0412af56-1f84-4061-946e-676af284672c",
       "rows": [
        [
         "count",
         "9032235.0"
        ],
        [
         "mean",
         "160.4206926635545"
        ],
        [
         "std",
         "61.207707581492016"
        ],
        [
         "min",
         "39.0"
        ],
        [
         "25%",
         "116.0"
        ],
        [
         "50%",
         "148.0"
        ],
        [
         "75%",
         "193.0"
        ],
        [
         "max",
         "401.0"
        ]
       ],
       "shape": {
        "columns": 1,
        "rows": 8
       }
      },
      "text/plain": [
       "count    9.032235e+06\n",
       "mean     1.604207e+02\n",
       "std      6.120771e+01\n",
       "min      3.900000e+01\n",
       "25%      1.160000e+02\n",
       "50%      1.480000e+02\n",
       "75%      1.930000e+02\n",
       "max      4.010000e+02\n",
       "Name: CGM, dtype: float64"
      ]
     },
     "execution_count": 170,
     "metadata": {},
     "output_type": "execute_result"
    }
   ],
   "source": [
    "# Get basic description for CGM column\n",
    "# OLGA: it seems like CGM data is within acceptable range (Please confirm that I am correct), so no outliers\n",
    "df.CGM.describe()"
   ]
  },
  {
   "cell_type": "code",
   "execution_count": 171,
   "id": "304b4d05",
   "metadata": {},
   "outputs": [
    {
     "name": "stdout",
     "output_type": "stream",
     "text": [
      "<class 'pandas.core.frame.DataFrame'>\n",
      "RangeIndex: 9032235 entries, 0 to 9032234\n",
      "Data columns (total 4 columns):\n",
      " #   Column      Non-Null Count    Dtype \n",
      "---  ------      --------------    ----- \n",
      " 0   patient_id  9032235 non-null  int64 \n",
      " 1   period      9032235 non-null  object\n",
      " 2   date_time   9032235 non-null  object\n",
      " 3   CGM         9032235 non-null  int64 \n",
      "dtypes: int64(2), object(2)\n",
      "memory usage: 275.6+ MB\n"
     ]
    }
   ],
   "source": [
    "# Get dataset description\n",
    "df.info(verbose=True, show_counts=True)"
   ]
  },
  {
   "cell_type": "markdown",
   "id": "671c7a3f",
   "metadata": {},
   "source": [
    "# Convert Timestamp Column to Date Line #"
   ]
  },
  {
   "cell_type": "code",
   "execution_count": 172,
   "id": "cdec0c62",
   "metadata": {},
   "outputs": [
    {
     "data": {
      "application/vnd.microsoft.datawrangler.viewer.v0+json": {
       "columns": [
        {
         "name": "index",
         "rawType": "int64",
         "type": "integer"
        },
        {
         "name": "patient_id",
         "rawType": "int64",
         "type": "integer"
        },
        {
         "name": "period",
         "rawType": "object",
         "type": "string"
        },
        {
         "name": "date_time",
         "rawType": "datetime64[ns]",
         "type": "datetime"
        },
        {
         "name": "CGM",
         "rawType": "int64",
         "type": "integer"
        }
       ],
       "ref": "07ef81f7-714d-40e3-b639-de2bd7fd142d",
       "rows": [
        [
         "0",
         "1",
         "1. Baseline",
         "2017-12-11 23:59:25",
         "172"
        ],
        [
         "1",
         "1",
         "1. Baseline",
         "2017-12-12 00:04:24",
         "170"
        ],
        [
         "2",
         "1",
         "1. Baseline",
         "2017-12-12 00:09:24",
         "167"
        ],
        [
         "3",
         "1",
         "1. Baseline",
         "2017-12-12 00:14:25",
         "163"
        ],
        [
         "4",
         "1",
         "1. Baseline",
         "2017-12-12 00:19:25",
         "160"
        ]
       ],
       "shape": {
        "columns": 4,
        "rows": 5
       }
      },
      "text/html": [
       "<div>\n",
       "<style scoped>\n",
       "    .dataframe tbody tr th:only-of-type {\n",
       "        vertical-align: middle;\n",
       "    }\n",
       "\n",
       "    .dataframe tbody tr th {\n",
       "        vertical-align: top;\n",
       "    }\n",
       "\n",
       "    .dataframe thead th {\n",
       "        text-align: right;\n",
       "    }\n",
       "</style>\n",
       "<table border=\"1\" class=\"dataframe\">\n",
       "  <thead>\n",
       "    <tr style=\"text-align: right;\">\n",
       "      <th></th>\n",
       "      <th>patient_id</th>\n",
       "      <th>period</th>\n",
       "      <th>date_time</th>\n",
       "      <th>CGM</th>\n",
       "    </tr>\n",
       "  </thead>\n",
       "  <tbody>\n",
       "    <tr>\n",
       "      <th>0</th>\n",
       "      <td>1</td>\n",
       "      <td>1. Baseline</td>\n",
       "      <td>2017-12-11 23:59:25</td>\n",
       "      <td>172</td>\n",
       "    </tr>\n",
       "    <tr>\n",
       "      <th>1</th>\n",
       "      <td>1</td>\n",
       "      <td>1. Baseline</td>\n",
       "      <td>2017-12-12 00:04:24</td>\n",
       "      <td>170</td>\n",
       "    </tr>\n",
       "    <tr>\n",
       "      <th>2</th>\n",
       "      <td>1</td>\n",
       "      <td>1. Baseline</td>\n",
       "      <td>2017-12-12 00:09:24</td>\n",
       "      <td>167</td>\n",
       "    </tr>\n",
       "    <tr>\n",
       "      <th>3</th>\n",
       "      <td>1</td>\n",
       "      <td>1. Baseline</td>\n",
       "      <td>2017-12-12 00:14:25</td>\n",
       "      <td>163</td>\n",
       "    </tr>\n",
       "    <tr>\n",
       "      <th>4</th>\n",
       "      <td>1</td>\n",
       "      <td>1. Baseline</td>\n",
       "      <td>2017-12-12 00:19:25</td>\n",
       "      <td>160</td>\n",
       "    </tr>\n",
       "  </tbody>\n",
       "</table>\n",
       "</div>"
      ],
      "text/plain": [
       "   patient_id       period           date_time  CGM\n",
       "0           1  1. Baseline 2017-12-11 23:59:25  172\n",
       "1           1  1. Baseline 2017-12-12 00:04:24  170\n",
       "2           1  1. Baseline 2017-12-12 00:09:24  167\n",
       "3           1  1. Baseline 2017-12-12 00:14:25  163\n",
       "4           1  1. Baseline 2017-12-12 00:19:25  160"
      ]
     },
     "execution_count": 172,
     "metadata": {},
     "output_type": "execute_result"
    }
   ],
   "source": [
    "df[\"date_time\"] = pd.to_datetime(\n",
    "    df[\"date_time\"],\n",
    "    format=\"%d%b%y:%H:%M:%S\"\n",
    ")\n",
    "\n",
    "df.head()"
   ]
  },
  {
   "cell_type": "code",
   "execution_count": 173,
   "id": "75196cf5",
   "metadata": {},
   "outputs": [
    {
     "data": {
      "application/vnd.microsoft.datawrangler.viewer.v0+json": {
       "columns": [
        {
         "name": "index",
         "rawType": "object",
         "type": "string"
        },
        {
         "name": "date_time",
         "rawType": "object",
         "type": "unknown"
        }
       ],
       "ref": "8f0c3330-6cef-4ad2-9152-29be8f6a1c82",
       "rows": [
        [
         "count",
         "9032235"
        ],
        [
         "mean",
         "2018-05-24 20:09:32.830558720"
        ],
        [
         "min",
         "2016-08-04 00:01:34"
        ],
        [
         "25%",
         "2018-02-25 16:25:51"
        ],
        [
         "50%",
         "2018-05-27 05:28:47"
        ],
        [
         "75%",
         "2018-08-21 19:50:11"
        ],
        [
         "max",
         "2019-03-25 07:06:50"
        ]
       ],
       "shape": {
        "columns": 1,
        "rows": 7
       }
      },
      "text/plain": [
       "count                          9032235\n",
       "mean     2018-05-24 20:09:32.830558720\n",
       "min                2016-08-04 00:01:34\n",
       "25%                2018-02-25 16:25:51\n",
       "50%                2018-05-27 05:28:47\n",
       "75%                2018-08-21 19:50:11\n",
       "max                2019-03-25 07:06:50\n",
       "Name: date_time, dtype: object"
      ]
     },
     "execution_count": 173,
     "metadata": {},
     "output_type": "execute_result"
    }
   ],
   "source": [
    "# Dates Range\n",
    "df.date_time.describe()"
   ]
  },
  {
   "cell_type": "markdown",
   "id": "6e2c7456",
   "metadata": {},
   "source": [
    "# Clean and Pre-Process Data #"
   ]
  },
  {
   "cell_type": "code",
   "execution_count": null,
   "id": "5691a36a",
   "metadata": {},
   "outputs": [
    {
     "name": "stdout",
     "output_type": "stream",
     "text": [
      "Dataset shape before dropping duplicates and NAs: (9032235, 4)\n",
      "Dataset shape after dropping duplicates and NAs: (9032235, 4)\n",
      "Periods: ['1. Baseline' '2. Post Randomization']\n",
      "Dataset shape after dropping periods other than baseline: (602103, 3)\n"
     ]
    }
   ],
   "source": [
    "# OLGA: the 2 operations below are not necessary, as we do not have duplicates or NAs.\n",
    "# When you perform any dataset-altering operations, it is worthwhile to check the shape before and after\n",
    "\n",
    "print(\"Dataset shape before dropping duplicates and NAs:\", df.shape)\n",
    "df = df.drop_duplicates()\n",
    "df = df.dropna()\n",
    "print(\"Dataset shape after dropping duplicates and NAs:\", df.shape)\n",
    "\n",
    "print(\"Periods:\", df[\"period\"].unique())\n",
    "\n",
    "# Only work with baseline periods so there is no bias\n",
    "\n",
    "# OLGA: it is better to use explicit category selection\n",
    "#df = df[df['Period'] != '2. Post Randomization']\n",
    "df = df[df['period'] == '1. Baseline']\n",
    "\n",
    "# OLGA: We will drop this column, as it is now a single-value column\n",
    "df.drop(columns=['period'], inplace=True)\n",
    "print(\"Dataset shape after dropping periods other than baseline:\", df.shape)"
   ]
  },
  {
   "cell_type": "markdown",
   "id": "908302ed",
   "metadata": {},
   "source": [
    "# Seperating by Day #\n",
    "Testing with one Patient"
   ]
  },
  {
   "cell_type": "code",
   "execution_count": 175,
   "id": "9fd327bb",
   "metadata": {},
   "outputs": [],
   "source": [
    "# OLGA: IMPORTANT! We need to know the start and end dates for the patient data. Most of the patients have data recorded for 4 weeks only.\n",
    "patient_id = 10\n",
    "star_date = pd.to_datetime('4/3/2018', dayfirst=True)\n",
    "timespan_days = 90"
   ]
  },
  {
   "cell_type": "code",
   "execution_count": 176,
   "id": "93e73df0",
   "metadata": {},
   "outputs": [],
   "source": [
    "def get_patient_data_dates(df, patient_id):\n",
    "    \"\"\"\n",
    "    Get the start and end dates for a given patient's data.\n",
    "    \"\"\"\n",
    "    patient_df = df[df['patient_id'] == patient_id]\n",
    "    \n",
    "    if patient_df.empty:\n",
    "        print(f\"No data found for patient {patient_id}\")\n",
    "        return None, None\n",
    "    \n",
    "    start_date = patient_df['date_time'].min().date()\n",
    "    end_date = patient_df['date_time'].max().date()\n",
    "    range = end_date - start_date\n",
    "    \n",
    "      \n",
    "    return start_date, end_date, range.days"
   ]
  },
  {
   "cell_type": "code",
   "execution_count": 177,
   "id": "2936c21f",
   "metadata": {},
   "outputs": [],
   "source": [
    "def get_patients_dates_range(df):\n",
    "    \"\"\"\n",
    "    Get the start and end dates for all patients' data.\n",
    "    \"\"\"\n",
    "    patient_ranges = (\n",
    "    df.groupby('patient_id')['date_time']\n",
    "    .agg(start_date='min', end_date='max')\n",
    "    .reset_index()\n",
    "    )\n",
    "    patient_ranges['range'] = patient_ranges['end_date'].dt.date- patient_ranges['start_date'].dt.date\n",
    "    patient_ranges['range'] = patient_ranges['range'].apply(lambda x: x.days)\n",
    "    \n",
    "    return patient_ranges"
   ]
  },
  {
   "cell_type": "code",
   "execution_count": 178,
   "id": "17352e0d",
   "metadata": {},
   "outputs": [
    {
     "data": {
      "application/vnd.microsoft.datawrangler.viewer.v0+json": {
       "columns": [
        {
         "name": "index",
         "rawType": "int64",
         "type": "integer"
        },
        {
         "name": "patient_id",
         "rawType": "int64",
         "type": "integer"
        },
        {
         "name": "start_date",
         "rawType": "datetime64[ns]",
         "type": "datetime"
        },
        {
         "name": "end_date",
         "rawType": "datetime64[ns]",
         "type": "datetime"
        },
        {
         "name": "range",
         "rawType": "int64",
         "type": "integer"
        }
       ],
       "ref": "041a9988-d615-4492-acac-1a098b90d4f5",
       "rows": [
        [
         "0",
         "1",
         "2017-12-11 23:59:25",
         "2017-12-25 23:59:09",
         "14"
        ],
        [
         "1",
         "2",
         "2018-01-08 00:02:54",
         "2018-01-20 23:57:30",
         "12"
        ],
        [
         "2",
         "3",
         "2017-12-28 00:01:21",
         "2018-01-10 23:58:24",
         "13"
        ],
        [
         "3",
         "4",
         "2017-08-13 00:00:09",
         "2017-08-26 23:59:35",
         "13"
        ],
        [
         "4",
         "5",
         "2018-01-29 23:56:41",
         "2018-02-12 23:56:20",
         "14"
        ],
        [
         "5",
         "6",
         "2018-01-02 23:52:45",
         "2018-01-16 23:52:00",
         "14"
        ],
        [
         "6",
         "7",
         "2017-11-08 23:57:00",
         "2017-11-22 23:56:51",
         "14"
        ],
        [
         "7",
         "8",
         "2018-03-09 00:01:13",
         "2018-03-20 23:55:52",
         "11"
        ],
        [
         "8",
         "9",
         "2018-01-04 23:57:01",
         "2018-01-18 23:55:37",
         "14"
        ],
        [
         "9",
         "10",
         "2018-04-03 23:58:52",
         "2018-04-17 23:58:27",
         "14"
        ],
        [
         "10",
         "12",
         "2018-05-18 23:58:12",
         "2018-06-01 23:57:12",
         "14"
        ],
        [
         "11",
         "13",
         "2017-08-01 23:56:40",
         "2017-08-15 23:56:29",
         "14"
        ],
        [
         "12",
         "14",
         "2018-07-08 23:57:17",
         "2018-07-22 23:56:20",
         "14"
        ],
        [
         "13",
         "15",
         "2018-02-16 23:58:39",
         "2018-03-02 23:57:33",
         "14"
        ],
        [
         "14",
         "16",
         "2017-08-13 23:58:18",
         "2017-08-27 23:57:51",
         "14"
        ],
        [
         "15",
         "17",
         "2018-01-03 00:03:35",
         "2018-01-15 23:56:54",
         "12"
        ],
        [
         "16",
         "18",
         "2018-06-07 23:59:26",
         "2018-06-21 23:59:02",
         "14"
        ],
        [
         "17",
         "19",
         "2018-04-29 23:58:43",
         "2018-05-13 23:58:16",
         "14"
        ],
        [
         "18",
         "20",
         "2018-01-02 23:59:25",
         "2018-01-16 23:58:41",
         "14"
        ],
        [
         "19",
         "21",
         "2018-06-07 18:57:34",
         "2018-06-21 18:56:58",
         "14"
        ],
        [
         "20",
         "22",
         "2018-05-15 23:57:33",
         "2018-05-29 23:55:31",
         "14"
        ],
        [
         "21",
         "23",
         "2018-01-01 01:03:36",
         "2018-01-14 23:57:37",
         "13"
        ],
        [
         "22",
         "24",
         "2018-04-11 23:56:04",
         "2018-04-25 23:55:14",
         "14"
        ],
        [
         "23",
         "25",
         "2018-05-31 00:00:34",
         "2018-06-13 23:59:35",
         "13"
        ],
        [
         "24",
         "26",
         "2017-10-15 00:03:17",
         "2017-10-27 23:55:44",
         "12"
        ],
        [
         "25",
         "27",
         "2018-02-24 00:04:05",
         "2018-03-08 23:58:18",
         "12"
        ],
        [
         "26",
         "28",
         "2017-07-18 00:02:59",
         "2017-07-30 23:57:14",
         "12"
        ],
        [
         "27",
         "29",
         "2017-09-24 00:04:32",
         "2017-10-04 23:59:10",
         "10"
        ],
        [
         "28",
         "30",
         "2017-07-21 00:01:49",
         "2017-08-02 23:56:34",
         "12"
        ],
        [
         "29",
         "31",
         "2018-07-11 00:00:56",
         "2018-07-23 23:59:52",
         "12"
        ],
        [
         "30",
         "32",
         "2017-10-31 00:03:38",
         "2017-11-13 23:58:28",
         "13"
        ],
        [
         "31",
         "34",
         "2018-07-09 23:56:19",
         "2018-07-23 23:55:48",
         "14"
        ],
        [
         "32",
         "35",
         "2018-04-02 23:57:01",
         "2018-04-16 23:56:32",
         "14"
        ],
        [
         "33",
         "36",
         "2018-02-26 00:40:55",
         "2018-03-10 11:35:10",
         "12"
        ],
        [
         "34",
         "37",
         "2018-04-23 00:04:42",
         "2018-05-05 23:58:24",
         "12"
        ],
        [
         "35",
         "38",
         "2018-05-23 00:04:21",
         "2018-06-04 23:58:52",
         "12"
        ],
        [
         "36",
         "39",
         "2018-01-18 06:36:43",
         "2018-01-30 23:56:09",
         "12"
        ],
        [
         "37",
         "40",
         "2018-07-17 00:01:08",
         "2018-07-30 23:59:53",
         "13"
        ],
        [
         "38",
         "41",
         "2017-10-06 00:02:27",
         "2017-10-18 23:57:00",
         "12"
        ],
        [
         "39",
         "42",
         "2018-01-09 00:00:14",
         "2018-01-22 23:59:48",
         "13"
        ],
        [
         "40",
         "43",
         "2018-01-11 00:01:53",
         "2018-01-22 23:56:31",
         "11"
        ],
        [
         "41",
         "44",
         "2017-09-10 00:04:37",
         "2017-09-22 23:59:05",
         "12"
        ],
        [
         "42",
         "45",
         "2017-09-19 00:03:28",
         "2017-10-01 23:58:06",
         "12"
        ],
        [
         "43",
         "46",
         "2017-10-13 02:14:50",
         "2017-10-24 23:59:16",
         "11"
        ],
        [
         "44",
         "47",
         "2018-06-16 23:57:42",
         "2018-06-30 23:57:24",
         "14"
        ],
        [
         "45",
         "48",
         "2018-06-20 00:01:38",
         "2018-07-03 23:56:25",
         "13"
        ],
        [
         "46",
         "49",
         "2017-09-27 00:03:04",
         "2017-10-09 23:57:19",
         "12"
        ],
        [
         "47",
         "50",
         "2017-10-16 04:50:46",
         "2017-10-29 23:56:50",
         "13"
        ],
        [
         "48",
         "51",
         "2018-01-06 00:01:42",
         "2018-01-18 23:58:49",
         "12"
        ],
        [
         "49",
         "52",
         "2017-11-19 00:00:00",
         "2017-12-02 23:59:00",
         "13"
        ]
       ],
       "shape": {
        "columns": 4,
        "rows": 168
       }
      },
      "text/html": [
       "<div>\n",
       "<style scoped>\n",
       "    .dataframe tbody tr th:only-of-type {\n",
       "        vertical-align: middle;\n",
       "    }\n",
       "\n",
       "    .dataframe tbody tr th {\n",
       "        vertical-align: top;\n",
       "    }\n",
       "\n",
       "    .dataframe thead th {\n",
       "        text-align: right;\n",
       "    }\n",
       "</style>\n",
       "<table border=\"1\" class=\"dataframe\">\n",
       "  <thead>\n",
       "    <tr style=\"text-align: right;\">\n",
       "      <th></th>\n",
       "      <th>patient_id</th>\n",
       "      <th>start_date</th>\n",
       "      <th>end_date</th>\n",
       "      <th>range</th>\n",
       "    </tr>\n",
       "  </thead>\n",
       "  <tbody>\n",
       "    <tr>\n",
       "      <th>0</th>\n",
       "      <td>1</td>\n",
       "      <td>2017-12-11 23:59:25</td>\n",
       "      <td>2017-12-25 23:59:09</td>\n",
       "      <td>14</td>\n",
       "    </tr>\n",
       "    <tr>\n",
       "      <th>1</th>\n",
       "      <td>2</td>\n",
       "      <td>2018-01-08 00:02:54</td>\n",
       "      <td>2018-01-20 23:57:30</td>\n",
       "      <td>12</td>\n",
       "    </tr>\n",
       "    <tr>\n",
       "      <th>2</th>\n",
       "      <td>3</td>\n",
       "      <td>2017-12-28 00:01:21</td>\n",
       "      <td>2018-01-10 23:58:24</td>\n",
       "      <td>13</td>\n",
       "    </tr>\n",
       "    <tr>\n",
       "      <th>3</th>\n",
       "      <td>4</td>\n",
       "      <td>2017-08-13 00:00:09</td>\n",
       "      <td>2017-08-26 23:59:35</td>\n",
       "      <td>13</td>\n",
       "    </tr>\n",
       "    <tr>\n",
       "      <th>4</th>\n",
       "      <td>5</td>\n",
       "      <td>2018-01-29 23:56:41</td>\n",
       "      <td>2018-02-12 23:56:20</td>\n",
       "      <td>14</td>\n",
       "    </tr>\n",
       "    <tr>\n",
       "      <th>...</th>\n",
       "      <td>...</td>\n",
       "      <td>...</td>\n",
       "      <td>...</td>\n",
       "      <td>...</td>\n",
       "    </tr>\n",
       "    <tr>\n",
       "      <th>163</th>\n",
       "      <td>167</td>\n",
       "      <td>2018-05-17 00:01:30</td>\n",
       "      <td>2018-05-29 23:56:01</td>\n",
       "      <td>12</td>\n",
       "    </tr>\n",
       "    <tr>\n",
       "      <th>164</th>\n",
       "      <td>168</td>\n",
       "      <td>2018-04-29 00:04:30</td>\n",
       "      <td>2018-05-11 23:59:02</td>\n",
       "      <td>12</td>\n",
       "    </tr>\n",
       "    <tr>\n",
       "      <th>165</th>\n",
       "      <td>169</td>\n",
       "      <td>2018-07-02 00:02:08</td>\n",
       "      <td>2018-07-14 23:56:37</td>\n",
       "      <td>12</td>\n",
       "    </tr>\n",
       "    <tr>\n",
       "      <th>166</th>\n",
       "      <td>170</td>\n",
       "      <td>2018-04-14 00:01:00</td>\n",
       "      <td>2018-04-27 13:00:00</td>\n",
       "      <td>13</td>\n",
       "    </tr>\n",
       "    <tr>\n",
       "      <th>167</th>\n",
       "      <td>171</td>\n",
       "      <td>2018-04-07 00:00:19</td>\n",
       "      <td>2018-04-19 21:26:27</td>\n",
       "      <td>12</td>\n",
       "    </tr>\n",
       "  </tbody>\n",
       "</table>\n",
       "<p>168 rows × 4 columns</p>\n",
       "</div>"
      ],
      "text/plain": [
       "     patient_id          start_date            end_date  range\n",
       "0             1 2017-12-11 23:59:25 2017-12-25 23:59:09     14\n",
       "1             2 2018-01-08 00:02:54 2018-01-20 23:57:30     12\n",
       "2             3 2017-12-28 00:01:21 2018-01-10 23:58:24     13\n",
       "3             4 2017-08-13 00:00:09 2017-08-26 23:59:35     13\n",
       "4             5 2018-01-29 23:56:41 2018-02-12 23:56:20     14\n",
       "..          ...                 ...                 ...    ...\n",
       "163         167 2018-05-17 00:01:30 2018-05-29 23:56:01     12\n",
       "164         168 2018-04-29 00:04:30 2018-05-11 23:59:02     12\n",
       "165         169 2018-07-02 00:02:08 2018-07-14 23:56:37     12\n",
       "166         170 2018-04-14 00:01:00 2018-04-27 13:00:00     13\n",
       "167         171 2018-04-07 00:00:19 2018-04-19 21:26:27     12\n",
       "\n",
       "[168 rows x 4 columns]"
      ]
     },
     "execution_count": 178,
     "metadata": {},
     "output_type": "execute_result"
    }
   ],
   "source": [
    "get_patients_dates_range(df)"
   ]
  },
  {
   "cell_type": "code",
   "execution_count": 179,
   "id": "f6430d5e",
   "metadata": {},
   "outputs": [
    {
     "name": "stdout",
     "output_type": "stream",
     "text": [
      "Patient 10 data dates range:\n",
      "Start date: 2018-04-03, End date: 2018-04-17, Range: 14 days\n"
     ]
    }
   ],
   "source": [
    "print(f\"Patient {patient_id} data dates range:\")\n",
    "start_date, end_date, range_days  = get_patient_data_dates(df, patient_id)\n",
    "if start_date and end_date:\n",
    "    print(f\"Start date: {start_date}, End date: {end_date}, Range: {range_days} days\")"
   ]
  },
  {
   "cell_type": "code",
   "execution_count": 180,
   "id": "c544f1df",
   "metadata": {},
   "outputs": [],
   "source": [
    "# Function to plot CGM data for a given patient\n",
    "def plot_patient_cgm(df, patient_id, start_date, timespan_days=30):\n",
    "    \"\"\"\n",
    "    Plot CGM data for a given patient over a specified time period.\n",
    "    \n",
    "    Parameters:\n",
    "    df (DataFrame): The DataFrame containing CGM data.\n",
    "    patient_id (int): The ID of the patient to plot.\n",
    "    start_date (datetime): The start date for the plot.\n",
    "    timespan_days (int): The number of days to include in the plot.\n",
    "    \"\"\"\n",
    "    patient_df = df[df['patient_id'] == patient_id]\n",
    "    patient_df = patient_df.loc[\n",
    "        (patient_df['date_time'] >= start_date) & \n",
    "        (patient_df['date_time'] < start_date + pd.Timedelta(days=timespan_days)), \n",
    "        ['date_time', 'CGM']\n",
    "    ]\n",
    "    \n",
    "\n",
    "    if  patient_df.empty:\n",
    "        print(f\"No data available for Patient {patient_id} in the specified time range.\")\n",
    "    else:\n",
    "        patient_df.set_index('date_time')['CGM'].plot(title=f'CGM Data for Patient {patient_id}', xlabel='Date', ylabel='CGM Value')\n",
    "        "
   ]
  },
  {
   "cell_type": "code",
   "execution_count": 181,
   "id": "3d9a638d",
   "metadata": {},
   "outputs": [
    {
     "data": {
      "image/png": "[encoded data removed]",
      "text/plain": [
       "<Figure size 640x480 with 1 Axes>"
      ]
     },
     "metadata": {},
     "output_type": "display_data"
    }
   ],
   "source": [
    "plot_patient_cgm(df, patient_id, star_date, timespan_days)"
   ]
  },
  {
   "cell_type": "code",
   "execution_count": null,
   "id": "489d508b",
   "metadata": {},
   "outputs": [],
   "source": [
    "# OLGA: Let's convert this into a function to make it reusable\n",
    "\n",
    "# Helper functions\n",
    "def pct_high(series):\n",
    "        return (series > 180).mean() * 100\n",
    "\n",
    "def pct_low(series):\n",
    "    return (series < 70).mean() * 100\n",
    "\n",
    "def range(series):\n",
    "    return np.max(series) - np.min(series)\n",
    "\n",
    "def calculate_patient_cgm_stats(df, patient_id, start_date, timespan_days=30):\n",
    "    \"\"\"\n",
    "    Calculate basic statistics for a given patient's CGM data.\n",
    "    \n",
    "    Parameters:\n",
    "    df (DataFrame): The DataFrame containing CGM data.\n",
    "    patient_id (int): The ID of the patient to analyze.\n",
    "    \n",
    "    Returns:\n",
    "    Series: A Series containing the mean, median, and standard deviation of the patient's CGM data.\n",
    "    \"\"\"\n",
    "    patient_df = df[df['patient_id'] == patient_id]\n",
    "    patient_df = patient_df.loc[\n",
    "        (patient_df['date_time'] >= start_date) & \n",
    "        (patient_df['date_time'] < start_date + pd.Timedelta(days=timespan_days)), \n",
    "        ['date_time', 'CGM']\n",
    "    ]\n",
    "    \n",
    "    if  patient_df.empty:\n",
    "        print(f\"No data available for Patient {patient_id} in the specified time range.\")\n",
    "        return\n",
    "    \n",
    "    print(f\"Dataset shape for patient {patient_id}: {patient_df.shape}\\n\")\n",
    "    print(patient_df.date_time.nunique(), \"unique date_time\")\n",
    "    assert patient_df.date_time.nunique() == patient_df.shape[0], \"There are duplicate dates for the patient\"\n",
    "\n",
    "\n",
    "   # OLGA: IMPORTANT!!! We have to group by date, not by date_time\n",
    "    patient_df['date'] = patient_df['date_time'].dt.date\n",
    "    print(patient_df.date.nunique(), \"days\")\n",
    "\n",
    "    statistics = ['mean', 'std', 'min', 'max', range, 'median', stats.iqr, stats.skew, stats.kurtosis, pct_high, pct_low]\n",
    "    statistics_cols = ['mean', 'std', 'min', 'max', 'range', 'median', 'iqr', 'skew', 'kurtosis', 'pct_high', 'pct_low']\n",
    "\n",
    "    patient_stats = patient_df.groupby('date').agg({'CGM' : statistics}).reset_index()\n",
    "    patient_stats.columns = ['date'] + statistics_cols\n",
    "\n",
    "    # Round statistics to 2 decimal places\n",
    "    patient_stats[statistics_cols] = patient_stats[statistics_cols].round(2)\n",
    "\n",
    "    # Get time of peak and low CGM for each day\n",
    "    idx_peak = patient_df.groupby('date')['CGM'].idxmax()\n",
    "    idx_low = patient_df.groupby('date')['CGM'].idxmin()\n",
    "    time_of_peak = patient_df.loc[idx_peak, ['date', 'date_time']]\n",
    "    time_of_peak['time_of_peak'] = time_of_peak['date_time'].dt.time\n",
    "    time_of_low = patient_df.loc[idx_low, ['date', 'date_time']]\n",
    "    time_of_low['time_of_low'] = time_of_low['date_time'].dt.time\n",
    "\n",
    "\n",
    "    patient_stats = patient_stats.merge(time_of_peak[['date', 'time_of_peak']], on='date')\n",
    "    patient_stats = patient_stats.merge(time_of_low[['date', 'time_of_low']], on='date')\n",
    "    \n",
    "    return patient_stats\n",
    "\n"
   ]
  },
  {
   "cell_type": "code",
   "execution_count": 187,
   "id": "113efe42",
   "metadata": {},
   "outputs": [
    {
     "name": "stdout",
     "output_type": "stream",
     "text": [
      "Dataset shape for patient 10: (4008, 2)\n",
      "\n",
      "4008 unique date_time\n",
      "15 days\n"
     ]
    },
    {
     "data": {
      "application/vnd.microsoft.datawrangler.viewer.v0+json": {
       "columns": [
        {
         "name": "index",
         "rawType": "int64",
         "type": "integer"
        },
        {
         "name": "date",
         "rawType": "object",
         "type": "unknown"
        },
        {
         "name": "mean",
         "rawType": "float64",
         "type": "float"
        },
        {
         "name": "std",
         "rawType": "float64",
         "type": "float"
        },
        {
         "name": "min",
         "rawType": "int64",
         "type": "integer"
        },
        {
         "name": "max",
         "rawType": "int64",
         "type": "integer"
        },
        {
         "name": "range",
         "rawType": "int64",
         "type": "integer"
        },
        {
         "name": "median",
         "rawType": "float64",
         "type": "float"
        },
        {
         "name": "iqr",
         "rawType": "float64",
         "type": "float"
        },
        {
         "name": "skew",
         "rawType": "float64",
         "type": "float"
        },
        {
         "name": "kurtosis",
         "rawType": "float64",
         "type": "float"
        },
        {
         "name": "pct_high",
         "rawType": "float64",
         "type": "float"
        },
        {
         "name": "pct_low",
         "rawType": "float64",
         "type": "float"
        },
        {
         "name": "time_of_peak",
         "rawType": "object",
         "type": "unknown"
        },
        {
         "name": "time_of_low",
         "rawType": "object",
         "type": "unknown"
        }
       ],
       "ref": "3827e7d1-7f39-4e31-8964-564fe8e7c6e2",
       "rows": [
        [
         "0",
         "2018-04-03",
         "236.0",
         null,
         "236",
         "236",
         "0",
         "236.0",
         "0.0",
         null,
         null,
         "100.0",
         "0.0",
         "23:58:52",
         "23:58:52"
        ],
        [
         "1",
         "2018-04-04",
         "208.88",
         "45.43",
         "112",
         "302",
         "190",
         "206.0",
         "54.0",
         "0.0",
         "-0.34",
         "76.39",
         "0.0",
         "11:03:51",
         "15:24:35"
        ],
        [
         "2",
         "2018-04-05",
         "170.15",
         "51.02",
         "77",
         "261",
         "184",
         "175.5",
         "91.0",
         "-0.14",
         "-1.19",
         "47.22",
         "0.0",
         "23:59:26",
         "17:44:28"
        ],
        [
         "3",
         "2018-04-06",
         "193.81",
         "54.56",
         "78",
         "282",
         "204",
         "198.0",
         "77.0",
         "-0.36",
         "-0.73",
         "63.54",
         "0.0",
         "00:49:27",
         "07:29:25"
        ],
        [
         "4",
         "2018-04-07",
         "185.37",
         "35.43",
         "95",
         "247",
         "152",
         "194.0",
         "40.0",
         "-0.65",
         "-0.1",
         "59.38",
         "0.0",
         "03:39:20",
         "14:39:19"
        ],
        [
         "5",
         "2018-04-08",
         "211.85",
         "33.28",
         "156",
         "314",
         "158",
         "210.0",
         "27.25",
         "0.81",
         "0.55",
         "83.33",
         "0.0",
         "19:04:12",
         "11:14:16"
        ],
        [
         "6",
         "2018-04-09",
         "133.44",
         "31.27",
         "76",
         "205",
         "129",
         "128.0",
         "48.25",
         "0.02",
         "-0.8",
         "3.47",
         "0.0",
         "14:59:10",
         "07:29:11"
        ],
        [
         "7",
         "2018-04-10",
         "183.93",
         "65.18",
         "61",
         "330",
         "269",
         "176.0",
         "68.0",
         "0.63",
         "-0.21",
         "42.71",
         "1.39",
         "06:54:06",
         "15:49:04"
        ],
        [
         "8",
         "2018-04-11",
         "146.38",
         "49.44",
         "63",
         "236",
         "173",
         "142.0",
         "75.5",
         "0.16",
         "-1.02",
         "28.14",
         "4.94",
         "17:23:59",
         "05:39:02"
        ],
        [
         "9",
         "2018-04-12",
         "216.09",
         "50.93",
         "131",
         "357",
         "226",
         "205.5",
         "46.0",
         "0.93",
         "0.33",
         "78.12",
         "0.0",
         "15:03:54",
         "00:13:57"
        ],
        [
         "10",
         "2018-04-13",
         "145.64",
         "35.98",
         "85",
         "221",
         "136",
         "140.0",
         "63.25",
         "0.18",
         "-1.24",
         "23.61",
         "0.0",
         "09:33:51",
         "16:18:48"
        ],
        [
         "11",
         "2018-04-14",
         "129.98",
         "63.42",
         "58",
         "276",
         "218",
         "113.5",
         "89.5",
         "0.82",
         "-0.52",
         "20.49",
         "15.62",
         "16:08:43",
         "23:28:44"
        ],
        [
         "12",
         "2018-04-15",
         "221.25",
         "62.14",
         "98",
         "328",
         "230",
         "227.5",
         "79.75",
         "-0.41",
         "-0.71",
         "75.35",
         "0.0",
         "03:48:42",
         "14:13:39"
        ],
        [
         "13",
         "2018-04-16",
         "182.34",
         "50.44",
         "85",
         "257",
         "172",
         "198.5",
         "87.75",
         "-0.41",
         "-1.19",
         "59.03",
         "0.0",
         "23:18:33",
         "15:43:34"
        ],
        [
         "14",
         "2018-04-17",
         "173.4",
         "56.38",
         "68",
         "260",
         "192",
         "166.0",
         "106.5",
         "-0.03",
         "-1.25",
         "44.1",
         "1.04",
         "21:58:27",
         "12:23:29"
        ]
       ],
       "shape": {
        "columns": 14,
        "rows": 15
       }
      },
      "text/html": [
       "<div>\n",
       "<style scoped>\n",
       "    .dataframe tbody tr th:only-of-type {\n",
       "        vertical-align: middle;\n",
       "    }\n",
       "\n",
       "    .dataframe tbody tr th {\n",
       "        vertical-align: top;\n",
       "    }\n",
       "\n",
       "    .dataframe thead th {\n",
       "        text-align: right;\n",
       "    }\n",
       "</style>\n",
       "<table border=\"1\" class=\"dataframe\">\n",
       "  <thead>\n",
       "    <tr style=\"text-align: right;\">\n",
       "      <th></th>\n",
       "      <th>date</th>\n",
       "      <th>mean</th>\n",
       "      <th>std</th>\n",
       "      <th>min</th>\n",
       "      <th>max</th>\n",
       "      <th>range</th>\n",
       "      <th>median</th>\n",
       "      <th>iqr</th>\n",
       "      <th>skew</th>\n",
       "      <th>kurtosis</th>\n",
       "      <th>pct_high</th>\n",
       "      <th>pct_low</th>\n",
       "      <th>time_of_peak</th>\n",
       "      <th>time_of_low</th>\n",
       "    </tr>\n",
       "  </thead>\n",
       "  <tbody>\n",
       "    <tr>\n",
       "      <th>0</th>\n",
       "      <td>2018-04-03</td>\n",
       "      <td>236.00</td>\n",
       "      <td>NaN</td>\n",
       "      <td>236</td>\n",
       "      <td>236</td>\n",
       "      <td>0</td>\n",
       "      <td>236.0</td>\n",
       "      <td>0.00</td>\n",
       "      <td>NaN</td>\n",
       "      <td>NaN</td>\n",
       "      <td>100.00</td>\n",
       "      <td>0.00</td>\n",
       "      <td>23:58:52</td>\n",
       "      <td>23:58:52</td>\n",
       "    </tr>\n",
       "    <tr>\n",
       "      <th>1</th>\n",
       "      <td>2018-04-04</td>\n",
       "      <td>208.88</td>\n",
       "      <td>45.43</td>\n",
       "      <td>112</td>\n",
       "      <td>302</td>\n",
       "      <td>190</td>\n",
       "      <td>206.0</td>\n",
       "      <td>54.00</td>\n",
       "      <td>0.00</td>\n",
       "      <td>-0.34</td>\n",
       "      <td>76.39</td>\n",
       "      <td>0.00</td>\n",
       "      <td>11:03:51</td>\n",
       "      <td>15:24:35</td>\n",
       "    </tr>\n",
       "    <tr>\n",
       "      <th>2</th>\n",
       "      <td>2018-04-05</td>\n",
       "      <td>170.15</td>\n",
       "      <td>51.02</td>\n",
       "      <td>77</td>\n",
       "      <td>261</td>\n",
       "      <td>184</td>\n",
       "      <td>175.5</td>\n",
       "      <td>91.00</td>\n",
       "      <td>-0.14</td>\n",
       "      <td>-1.19</td>\n",
       "      <td>47.22</td>\n",
       "      <td>0.00</td>\n",
       "      <td>23:59:26</td>\n",
       "      <td>17:44:28</td>\n",
       "    </tr>\n",
       "    <tr>\n",
       "      <th>3</th>\n",
       "      <td>2018-04-06</td>\n",
       "      <td>193.81</td>\n",
       "      <td>54.56</td>\n",
       "      <td>78</td>\n",
       "      <td>282</td>\n",
       "      <td>204</td>\n",
       "      <td>198.0</td>\n",
       "      <td>77.00</td>\n",
       "      <td>-0.36</td>\n",
       "      <td>-0.73</td>\n",
       "      <td>63.54</td>\n",
       "      <td>0.00</td>\n",
       "      <td>00:49:27</td>\n",
       "      <td>07:29:25</td>\n",
       "    </tr>\n",
       "    <tr>\n",
       "      <th>4</th>\n",
       "      <td>2018-04-07</td>\n",
       "      <td>185.37</td>\n",
       "      <td>35.43</td>\n",
       "      <td>95</td>\n",
       "      <td>247</td>\n",
       "      <td>152</td>\n",
       "      <td>194.0</td>\n",
       "      <td>40.00</td>\n",
       "      <td>-0.65</td>\n",
       "      <td>-0.10</td>\n",
       "      <td>59.38</td>\n",
       "      <td>0.00</td>\n",
       "      <td>03:39:20</td>\n",
       "      <td>14:39:19</td>\n",
       "    </tr>\n",
       "    <tr>\n",
       "      <th>5</th>\n",
       "      <td>2018-04-08</td>\n",
       "      <td>211.85</td>\n",
       "      <td>33.28</td>\n",
       "      <td>156</td>\n",
       "      <td>314</td>\n",
       "      <td>158</td>\n",
       "      <td>210.0</td>\n",
       "      <td>27.25</td>\n",
       "      <td>0.81</td>\n",
       "      <td>0.55</td>\n",
       "      <td>83.33</td>\n",
       "      <td>0.00</td>\n",
       "      <td>19:04:12</td>\n",
       "      <td>11:14:16</td>\n",
       "    </tr>\n",
       "    <tr>\n",
       "      <th>6</th>\n",
       "      <td>2018-04-09</td>\n",
       "      <td>133.44</td>\n",
       "      <td>31.27</td>\n",
       "      <td>76</td>\n",
       "      <td>205</td>\n",
       "      <td>129</td>\n",
       "      <td>128.0</td>\n",
       "      <td>48.25</td>\n",
       "      <td>0.02</td>\n",
       "      <td>-0.80</td>\n",
       "      <td>3.47</td>\n",
       "      <td>0.00</td>\n",
       "      <td>14:59:10</td>\n",
       "      <td>07:29:11</td>\n",
       "    </tr>\n",
       "    <tr>\n",
       "      <th>7</th>\n",
       "      <td>2018-04-10</td>\n",
       "      <td>183.93</td>\n",
       "      <td>65.18</td>\n",
       "      <td>61</td>\n",
       "      <td>330</td>\n",
       "      <td>269</td>\n",
       "      <td>176.0</td>\n",
       "      <td>68.00</td>\n",
       "      <td>0.63</td>\n",
       "      <td>-0.21</td>\n",
       "      <td>42.71</td>\n",
       "      <td>1.39</td>\n",
       "      <td>06:54:06</td>\n",
       "      <td>15:49:04</td>\n",
       "    </tr>\n",
       "    <tr>\n",
       "      <th>8</th>\n",
       "      <td>2018-04-11</td>\n",
       "      <td>146.38</td>\n",
       "      <td>49.44</td>\n",
       "      <td>63</td>\n",
       "      <td>236</td>\n",
       "      <td>173</td>\n",
       "      <td>142.0</td>\n",
       "      <td>75.50</td>\n",
       "      <td>0.16</td>\n",
       "      <td>-1.02</td>\n",
       "      <td>28.14</td>\n",
       "      <td>4.94</td>\n",
       "      <td>17:23:59</td>\n",
       "      <td>05:39:02</td>\n",
       "    </tr>\n",
       "    <tr>\n",
       "      <th>9</th>\n",
       "      <td>2018-04-12</td>\n",
       "      <td>216.09</td>\n",
       "      <td>50.93</td>\n",
       "      <td>131</td>\n",
       "      <td>357</td>\n",
       "      <td>226</td>\n",
       "      <td>205.5</td>\n",
       "      <td>46.00</td>\n",
       "      <td>0.93</td>\n",
       "      <td>0.33</td>\n",
       "      <td>78.12</td>\n",
       "      <td>0.00</td>\n",
       "      <td>15:03:54</td>\n",
       "      <td>00:13:57</td>\n",
       "    </tr>\n",
       "    <tr>\n",
       "      <th>10</th>\n",
       "      <td>2018-04-13</td>\n",
       "      <td>145.64</td>\n",
       "      <td>35.98</td>\n",
       "      <td>85</td>\n",
       "      <td>221</td>\n",
       "      <td>136</td>\n",
       "      <td>140.0</td>\n",
       "      <td>63.25</td>\n",
       "      <td>0.18</td>\n",
       "      <td>-1.24</td>\n",
       "      <td>23.61</td>\n",
       "      <td>0.00</td>\n",
       "      <td>09:33:51</td>\n",
       "      <td>16:18:48</td>\n",
       "    </tr>\n",
       "    <tr>\n",
       "      <th>11</th>\n",
       "      <td>2018-04-14</td>\n",
       "      <td>129.98</td>\n",
       "      <td>63.42</td>\n",
       "      <td>58</td>\n",
       "      <td>276</td>\n",
       "      <td>218</td>\n",
       "      <td>113.5</td>\n",
       "      <td>89.50</td>\n",
       "      <td>0.82</td>\n",
       "      <td>-0.52</td>\n",
       "      <td>20.49</td>\n",
       "      <td>15.62</td>\n",
       "      <td>16:08:43</td>\n",
       "      <td>23:28:44</td>\n",
       "    </tr>\n",
       "    <tr>\n",
       "      <th>12</th>\n",
       "      <td>2018-04-15</td>\n",
       "      <td>221.25</td>\n",
       "      <td>62.14</td>\n",
       "      <td>98</td>\n",
       "      <td>328</td>\n",
       "      <td>230</td>\n",
       "      <td>227.5</td>\n",
       "      <td>79.75</td>\n",
       "      <td>-0.41</td>\n",
       "      <td>-0.71</td>\n",
       "      <td>75.35</td>\n",
       "      <td>0.00</td>\n",
       "      <td>03:48:42</td>\n",
       "      <td>14:13:39</td>\n",
       "    </tr>\n",
       "    <tr>\n",
       "      <th>13</th>\n",
       "      <td>2018-04-16</td>\n",
       "      <td>182.34</td>\n",
       "      <td>50.44</td>\n",
       "      <td>85</td>\n",
       "      <td>257</td>\n",
       "      <td>172</td>\n",
       "      <td>198.5</td>\n",
       "      <td>87.75</td>\n",
       "      <td>-0.41</td>\n",
       "      <td>-1.19</td>\n",
       "      <td>59.03</td>\n",
       "      <td>0.00</td>\n",
       "      <td>23:18:33</td>\n",
       "      <td>15:43:34</td>\n",
       "    </tr>\n",
       "    <tr>\n",
       "      <th>14</th>\n",
       "      <td>2018-04-17</td>\n",
       "      <td>173.40</td>\n",
       "      <td>56.38</td>\n",
       "      <td>68</td>\n",
       "      <td>260</td>\n",
       "      <td>192</td>\n",
       "      <td>166.0</td>\n",
       "      <td>106.50</td>\n",
       "      <td>-0.03</td>\n",
       "      <td>-1.25</td>\n",
       "      <td>44.10</td>\n",
       "      <td>1.04</td>\n",
       "      <td>21:58:27</td>\n",
       "      <td>12:23:29</td>\n",
       "    </tr>\n",
       "  </tbody>\n",
       "</table>\n",
       "</div>"
      ],
      "text/plain": [
       "          date    mean    std  min  max  range  median     iqr  skew  \\\n",
       "0   2018-04-03  236.00    NaN  236  236      0   236.0    0.00   NaN   \n",
       "1   2018-04-04  208.88  45.43  112  302    190   206.0   54.00  0.00   \n",
       "2   2018-04-05  170.15  51.02   77  261    184   175.5   91.00 -0.14   \n",
       "3   2018-04-06  193.81  54.56   78  282    204   198.0   77.00 -0.36   \n",
       "4   2018-04-07  185.37  35.43   95  247    152   194.0   40.00 -0.65   \n",
       "5   2018-04-08  211.85  33.28  156  314    158   210.0   27.25  0.81   \n",
       "6   2018-04-09  133.44  31.27   76  205    129   128.0   48.25  0.02   \n",
       "7   2018-04-10  183.93  65.18   61  330    269   176.0   68.00  0.63   \n",
       "8   2018-04-11  146.38  49.44   63  236    173   142.0   75.50  0.16   \n",
       "9   2018-04-12  216.09  50.93  131  357    226   205.5   46.00  0.93   \n",
       "10  2018-04-13  145.64  35.98   85  221    136   140.0   63.25  0.18   \n",
       "11  2018-04-14  129.98  63.42   58  276    218   113.5   89.50  0.82   \n",
       "12  2018-04-15  221.25  62.14   98  328    230   227.5   79.75 -0.41   \n",
       "13  2018-04-16  182.34  50.44   85  257    172   198.5   87.75 -0.41   \n",
       "14  2018-04-17  173.40  56.38   68  260    192   166.0  106.50 -0.03   \n",
       "\n",
       "    kurtosis  pct_high  pct_low time_of_peak time_of_low  \n",
       "0        NaN    100.00     0.00     23:58:52    23:58:52  \n",
       "1      -0.34     76.39     0.00     11:03:51    15:24:35  \n",
       "2      -1.19     47.22     0.00     23:59:26    17:44:28  \n",
       "3      -0.73     63.54     0.00     00:49:27    07:29:25  \n",
       "4      -0.10     59.38     0.00     03:39:20    14:39:19  \n",
       "5       0.55     83.33     0.00     19:04:12    11:14:16  \n",
       "6      -0.80      3.47     0.00     14:59:10    07:29:11  \n",
       "7      -0.21     42.71     1.39     06:54:06    15:49:04  \n",
       "8      -1.02     28.14     4.94     17:23:59    05:39:02  \n",
       "9       0.33     78.12     0.00     15:03:54    00:13:57  \n",
       "10     -1.24     23.61     0.00     09:33:51    16:18:48  \n",
       "11     -0.52     20.49    15.62     16:08:43    23:28:44  \n",
       "12     -0.71     75.35     0.00     03:48:42    14:13:39  \n",
       "13     -1.19     59.03     0.00     23:18:33    15:43:34  \n",
       "14     -1.25     44.10     1.04     21:58:27    12:23:29  "
      ]
     },
     "execution_count": 187,
     "metadata": {},
     "output_type": "execute_result"
    }
   ],
   "source": [
    "patient_stats = calculate_patient_cgm_stats(df, patient_id, star_date, timespan_days)\n",
    "patient_stats"
   ]
  },
  {
   "cell_type": "code",
   "execution_count": 188,
   "id": "a315a1e9",
   "metadata": {},
   "outputs": [],
   "source": [
    "patient_stats.to_csv(f\"./output/patient_{patient_id}_stats.csv\", index=False)"
   ]
  },
  {
   "cell_type": "code",
   "execution_count": null,
   "id": "18e413d4",
   "metadata": {},
   "outputs": [],
   "source": [
    "# OLGA: TODO NEXT:\n",
    "# 1. Add LLM, feed it with patient_stats and ask it to generate a report. Start with Ollama, as you have it installed already. Look at the week 2 ai-academy materials.\n",
    "# 2. Generate csv files with patient stats for all patients\n",
    "# 3. Ask LLM to generate a report for all patients"
   ]
  },
  {
   "cell_type": "code",
   "execution_count": 184,
   "id": "970014e1",
   "metadata": {},
   "outputs": [],
   "source": [
    "# summaries = []\n",
    "# glucose_readings = []\n",
    "# grouped = df10.groupby(\"DataDtTm\")\n",
    "# day = ''\n",
    "\n",
    "# for date, group in grouped:\n",
    "#     glucose = group[\"CGM\"]\n",
    "    \n",
    "#     glucose_readings.append(glucose)\n",
    "\n",
    "\n",
    "#     mean = round(glucose.mean(),2)\n",
    "#     std = round(glucose.std(), 2)\n",
    "#     pct_high = round((glucose > 180).mean() * 100, 2)\n",
    "#     pct_low = round((glucose < 70).mean() * 100, 2)\n",
    "#     max_value = glucose.max()\n",
    "#     min_value = glucose.min()\n",
    "#     time_of_peak = group.loc[glucose.idxmax(), \"DataDtTm\"].time()\n",
    "#     time_of_lowest = group.loc[glucose.idxmin(), \"DataDtTm\"].time()\n",
    "\n",
    "    \n",
    "\n",
    "\n",
    "    \n",
    "#     summary = {\n",
    "#         \"Date\": str(date),\n",
    "#         \"cgm_level\": ,\n",
    "#         \"StdDev\": std,\n",
    "#         \"PercentAbove180\": pct_high,\n",
    "#         \"PercentBelow70\": pct_low,\n",
    "#         \"Max\": max_value,\n",
    "#         \"Min\": min_value,\n",
    "#         \"TimeOfPeak\": str(time_of_peak)\n",
    "#     }\n",
    "\n",
    "\n",
    "#     summaries.append(summary)\n",
    "    \n",
    "# for s in summaries:\n",
    "#     print(s)"
   ]
  },
  {
   "cell_type": "code",
   "execution_count": 185,
   "id": "548e3eae",
   "metadata": {},
   "outputs": [
    {
     "ename": "NameError",
     "evalue": "name 'summaries' is not defined",
     "output_type": "error",
     "traceback": [
      "\u001b[31m---------------------------------------------------------------------------\u001b[39m",
      "\u001b[31mNameError\u001b[39m                                 Traceback (most recent call last)",
      "\u001b[36mCell\u001b[39m\u001b[36m \u001b[39m\u001b[32mIn[185]\u001b[39m\u001b[32m, line 6\u001b[39m\n\u001b[32m      2\u001b[39m counts = {}\n\u001b[32m      3\u001b[39m mean_values = []\n\u001b[32m----> \u001b[39m\u001b[32m6\u001b[39m \u001b[38;5;28;01mfor\u001b[39;00m row \u001b[38;5;129;01min\u001b[39;00m \u001b[43msummaries\u001b[49m:\n\u001b[32m      7\u001b[39m     \u001b[38;5;28;01mfor\u001b[39;00m key, value \u001b[38;5;129;01min\u001b[39;00m row.items():\n\u001b[32m      8\u001b[39m         \u001b[38;5;28;01mif\u001b[39;00m \u001b[38;5;28misinstance\u001b[39m(value, (\u001b[38;5;28mint\u001b[39m, \u001b[38;5;28mfloat\u001b[39m)) \u001b[38;5;129;01mand\u001b[39;00m value \u001b[38;5;129;01mis\u001b[39;00m \u001b[38;5;129;01mnot\u001b[39;00m \u001b[38;5;28;01mNone\u001b[39;00m:\n",
      "\u001b[31mNameError\u001b[39m: name 'summaries' is not defined"
     ]
    }
   ],
   "source": [
    "# sums = {}\n",
    "# counts = {}\n",
    "# mean_values = []\n",
    "\n",
    "\n",
    "# for row in summaries:\n",
    "#     for key, value in row.items():\n",
    "#         if isinstance(value, (int, float)) and value is not None:\n",
    "#             if key not in sums:\n",
    "#                 sums[key] = 0\n",
    "#                 counts[key] = 0\n",
    "#             sums[key] += value\n",
    "#             counts[key] += 1\n",
    "#             if key == \"Mean\":\n",
    "#                 mean_values.append(value)\n",
    "\n",
    "# averages = {key: sums[key] / counts[key] for key in sums}\n",
    "\n",
    "\n",
    "# mean_of_means = averages[\"Mean\"]\n",
    "# cgm_variability = math.sqrt(sum((x - mean_of_means) ** 2 for x in mean_values) / len(mean_values))\n",
    "\n",
    "\n",
    "# averages[\"CGM Variability\"] = cgm_variability\n",
    "# averages.pop(\"StdDev\")\n",
    "\n",
    "# print(\"Average summary:\")\n",
    "# for key, avg in averages.items():\n",
    "#     print(f\"{key}: {avg:.2f}\")"
   ]
  },
  {
   "cell_type": "markdown",
   "id": "6b010671",
   "metadata": {},
   "source": []
  }
 ],
 "metadata": {
  "kernelspec": {
   "display_name": "ai-academy",
   "language": "python",
   "name": "python3"
  },
  "language_info": {
   "codemirror_mode": {
    "name": "ipython",
    "version": 3
   },
   "file_extension": ".py",
   "mimetype": "text/x-python",
   "name": "python",
   "nbconvert_exporter": "python",
   "pygments_lexer": "ipython3",
   "version": "3.13.5"
  }
 },
 "nbformat": 4,
 "nbformat_minor": 5
}
